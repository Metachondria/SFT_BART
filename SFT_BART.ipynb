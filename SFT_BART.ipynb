{
  "metadata": {
    "kernelspec": {
      "language": "python",
      "display_name": "Python 3",
      "name": "python3"
    },
    "language_info": {
      "name": "python",
      "version": "3.10.12",
      "mimetype": "text/x-python",
      "codemirror_mode": {
        "name": "ipython",
        "version": 3
      },
      "pygments_lexer": "ipython3",
      "nbconvert_exporter": "python",
      "file_extension": ".py"
    },
    "kaggle": {
      "accelerator": "nvidiaTeslaT4",
      "dataSources": [],
      "dockerImageVersionId": 30823,
      "isInternetEnabled": true,
      "language": "python",
      "sourceType": "notebook",
      "isGpuEnabled": true
    },
    "colab": {
      "name": "SFT_BART",
      "provenance": [],
      "include_colab_link": true
    }
  },
  "nbformat_minor": 0,
  "nbformat": 4,
  "cells": [
    {
      "cell_type": "markdown",
      "metadata": {
        "id": "view-in-github",
        "colab_type": "text"
      },
      "source": [
        "<a href=\"https://colab.research.google.com/github/Metachondria/SFT_BART/blob/main/SFT_BART.ipynb\" target=\"_parent\"><img src=\"https://colab.research.google.com/assets/colab-badge.svg\" alt=\"Open In Colab\"/></a>"
      ]
    },
    {
      "cell_type": "markdown",
      "source": [
        "# Preprocessing"
      ],
      "metadata": {
        "id": "Rxf7TFFaXnIE"
      }
    },
    {
      "cell_type": "code",
      "source": [
        "!pip install -q evaluate\n",
        "!pip install -q rouge_score"
      ],
      "metadata": {
        "trusted": true,
        "execution": {
          "iopub.status.busy": "2025-01-23T12:40:56.451194Z",
          "iopub.execute_input": "2025-01-23T12:40:56.452064Z",
          "iopub.status.idle": "2025-01-23T12:41:03.178128Z",
          "shell.execute_reply.started": "2025-01-23T12:40:56.452031Z",
          "shell.execute_reply": "2025-01-23T12:41:03.177004Z"
        },
        "id": "W24Lm9beXnIH",
        "outputId": "8141139c-37d9-42b0-be0a-3be3acc3ee45"
      },
      "outputs": [
        {
          "name": "stderr",
          "text": "/usr/lib/python3.10/pty.py:89: RuntimeWarning: os.fork() was called. os.fork() is incompatible with multithreaded code, and JAX is multithreaded, so this will likely lead to a deadlock.\n  pid, fd = os.forkpty()\n",
          "output_type": "stream"
        }
      ],
      "execution_count": null
    },
    {
      "cell_type": "code",
      "source": [
        "from transformers import  AutoTokenizer, BartForConditionalGeneration,DataCollatorForSeq2Seq, get_linear_schedule_with_warmup\n",
        "import torch\n",
        "from torch.utils.data import DataLoader\n",
        "import torch.nn as nn\n",
        "\n",
        "from accelerate import Accelerator\n",
        "import evaluate\n",
        "\n",
        "from tqdm.auto import tqdm\n",
        "from datasets import load_dataset\n",
        "\n",
        "accelerator = Accelerator()\n",
        "device = accelerator.device"
      ],
      "metadata": {
        "_uuid": "8f2839f25d086af736a60e9eeb907d3b93b6e0e5",
        "_cell_guid": "b1076dfc-b9ad-4769-8c92-a6c4dae69d19",
        "trusted": true,
        "execution": {
          "iopub.status.busy": "2025-01-23T12:40:30.586274Z",
          "iopub.execute_input": "2025-01-23T12:40:30.586638Z",
          "iopub.status.idle": "2025-01-23T12:40:32.075269Z",
          "shell.execute_reply.started": "2025-01-23T12:40:30.586606Z",
          "shell.execute_reply": "2025-01-23T12:40:32.074657Z"
        },
        "id": "iLvc5GqCXnIJ"
      },
      "outputs": [],
      "execution_count": null
    },
    {
      "cell_type": "code",
      "source": [
        "torch.cuda.device_count()"
      ],
      "metadata": {
        "trusted": true,
        "execution": {
          "iopub.status.busy": "2025-01-23T12:41:06.931474Z",
          "iopub.execute_input": "2025-01-23T12:41:06.931804Z",
          "iopub.status.idle": "2025-01-23T12:41:06.971431Z",
          "shell.execute_reply.started": "2025-01-23T12:41:06.931778Z",
          "shell.execute_reply": "2025-01-23T12:41:06.970713Z"
        },
        "id": "65vEEFpAXnIK",
        "outputId": "342ad544-bce8-4c9a-dbde-21f1a727d90b"
      },
      "outputs": [
        {
          "execution_count": 5,
          "output_type": "execute_result",
          "data": {
            "text/plain": "2"
          },
          "metadata": {}
        }
      ],
      "execution_count": null
    },
    {
      "cell_type": "code",
      "source": [
        "data = load_dataset(\"billsum\", split=\"ca_test\")"
      ],
      "metadata": {
        "trusted": true,
        "execution": {
          "iopub.status.busy": "2025-01-23T12:41:09.355932Z",
          "iopub.execute_input": "2025-01-23T12:41:09.356256Z",
          "iopub.status.idle": "2025-01-23T12:41:13.937823Z",
          "shell.execute_reply.started": "2025-01-23T12:41:09.356235Z",
          "shell.execute_reply": "2025-01-23T12:41:13.936964Z"
        },
        "colab": {
          "referenced_widgets": [
            "cd9bc34e2d6d4b93abf1dc16ed3646b5",
            "62e1e5933af048c59b6768a76f7adff6",
            "d55bec20adda414ab5881dbf15eaeb76",
            "58bfcd0221d8413bbb9c6a07492b93ad",
            "ad09bb5f3b344044abbbb5cb7840c842",
            "9d9bfaf0567a4e6b939110c2d633cc53",
            "36b339b18b35455e93765a4430313a10"
          ]
        },
        "id": "Tb8aeb0YXnIK",
        "outputId": "fef3d94c-77fa-4a6a-e5c8-e974e93b30cb"
      },
      "outputs": [
        {
          "output_type": "display_data",
          "data": {
            "text/plain": "README.md:   0%|          | 0.00/7.27k [00:00<?, ?B/s]",
            "application/vnd.jupyter.widget-view+json": {
              "version_major": 2,
              "version_minor": 0,
              "model_id": "cd9bc34e2d6d4b93abf1dc16ed3646b5"
            }
          },
          "metadata": {}
        },
        {
          "output_type": "display_data",
          "data": {
            "text/plain": "train-00000-of-00001.parquet:   0%|          | 0.00/91.8M [00:00<?, ?B/s]",
            "application/vnd.jupyter.widget-view+json": {
              "version_major": 2,
              "version_minor": 0,
              "model_id": "62e1e5933af048c59b6768a76f7adff6"
            }
          },
          "metadata": {}
        },
        {
          "output_type": "display_data",
          "data": {
            "text/plain": "test-00000-of-00001.parquet:   0%|          | 0.00/15.8M [00:00<?, ?B/s]",
            "application/vnd.jupyter.widget-view+json": {
              "version_major": 2,
              "version_minor": 0,
              "model_id": "d55bec20adda414ab5881dbf15eaeb76"
            }
          },
          "metadata": {}
        },
        {
          "output_type": "display_data",
          "data": {
            "text/plain": "ca_test-00000-of-00001.parquet:   0%|          | 0.00/6.12M [00:00<?, ?B/s]",
            "application/vnd.jupyter.widget-view+json": {
              "version_major": 2,
              "version_minor": 0,
              "model_id": "58bfcd0221d8413bbb9c6a07492b93ad"
            }
          },
          "metadata": {}
        },
        {
          "output_type": "display_data",
          "data": {
            "text/plain": "Generating train split:   0%|          | 0/18949 [00:00<?, ? examples/s]",
            "application/vnd.jupyter.widget-view+json": {
              "version_major": 2,
              "version_minor": 0,
              "model_id": "ad09bb5f3b344044abbbb5cb7840c842"
            }
          },
          "metadata": {}
        },
        {
          "output_type": "display_data",
          "data": {
            "text/plain": "Generating test split:   0%|          | 0/3269 [00:00<?, ? examples/s]",
            "application/vnd.jupyter.widget-view+json": {
              "version_major": 2,
              "version_minor": 0,
              "model_id": "9d9bfaf0567a4e6b939110c2d633cc53"
            }
          },
          "metadata": {}
        },
        {
          "output_type": "display_data",
          "data": {
            "text/plain": "Generating ca_test split:   0%|          | 0/1237 [00:00<?, ? examples/s]",
            "application/vnd.jupyter.widget-view+json": {
              "version_major": 2,
              "version_minor": 0,
              "model_id": "36b339b18b35455e93765a4430313a10"
            }
          },
          "metadata": {}
        }
      ],
      "execution_count": null
    },
    {
      "cell_type": "code",
      "source": [
        "data"
      ],
      "metadata": {
        "trusted": true,
        "execution": {
          "iopub.status.busy": "2025-01-23T12:41:20.012827Z",
          "iopub.execute_input": "2025-01-23T12:41:20.013127Z",
          "iopub.status.idle": "2025-01-23T12:41:20.018396Z",
          "shell.execute_reply.started": "2025-01-23T12:41:20.013106Z",
          "shell.execute_reply": "2025-01-23T12:41:20.017522Z"
        },
        "id": "jF9mvGdaXnIL",
        "outputId": "a696f988-8952-45bf-c6dd-65702343e8b5"
      },
      "outputs": [
        {
          "execution_count": 7,
          "output_type": "execute_result",
          "data": {
            "text/plain": "Dataset({\n    features: ['text', 'summary', 'title'],\n    num_rows: 1237\n})"
          },
          "metadata": {}
        }
      ],
      "execution_count": null
    },
    {
      "cell_type": "code",
      "source": [
        "data = data.train_test_split(test_size=0.1)"
      ],
      "metadata": {
        "trusted": true,
        "execution": {
          "iopub.status.busy": "2025-01-23T12:41:21.44709Z",
          "iopub.execute_input": "2025-01-23T12:41:21.447411Z",
          "iopub.status.idle": "2025-01-23T12:41:21.461926Z",
          "shell.execute_reply.started": "2025-01-23T12:41:21.447387Z",
          "shell.execute_reply": "2025-01-23T12:41:21.461281Z"
        },
        "id": "cdSSc43nXnIL"
      },
      "outputs": [],
      "execution_count": null
    },
    {
      "cell_type": "code",
      "source": [
        "data"
      ],
      "metadata": {
        "trusted": true,
        "execution": {
          "iopub.status.busy": "2025-01-23T12:41:21.824305Z",
          "iopub.execute_input": "2025-01-23T12:41:21.824597Z",
          "iopub.status.idle": "2025-01-23T12:41:22.751153Z",
          "shell.execute_reply.started": "2025-01-23T12:41:21.824577Z",
          "shell.execute_reply": "2025-01-23T12:41:22.75043Z"
        },
        "id": "rQ2uYGUuXnIM",
        "outputId": "13934ad8-6c14-420c-8187-63f0eccc4e57"
      },
      "outputs": [
        {
          "execution_count": 9,
          "output_type": "execute_result",
          "data": {
            "text/plain": "DatasetDict({\n    train: Dataset({\n        features: ['text', 'summary', 'title'],\n        num_rows: 1113\n    })\n    test: Dataset({\n        features: ['text', 'summary', 'title'],\n        num_rows: 124\n    })\n})"
          },
          "metadata": {}
        }
      ],
      "execution_count": null
    },
    {
      "cell_type": "code",
      "source": [
        "tokenizer = AutoTokenizer.from_pretrained('facebook/bart-large-cnn')"
      ],
      "metadata": {
        "trusted": true,
        "execution": {
          "iopub.status.busy": "2025-01-23T12:41:24.724915Z",
          "iopub.execute_input": "2025-01-23T12:41:24.725235Z",
          "iopub.status.idle": "2025-01-23T12:41:26.070936Z",
          "shell.execute_reply.started": "2025-01-23T12:41:24.725212Z",
          "shell.execute_reply": "2025-01-23T12:41:26.069939Z"
        },
        "colab": {
          "referenced_widgets": [
            "f2d822f8e4964766a5cacca71b233016",
            "69752df28a3247999eae700772418bca",
            "142f35d1149c484da1cf910dd02a5ac5",
            "c7039e65a604483fa97033eb79f7bcfb"
          ]
        },
        "id": "lRHdwJmSXnIM",
        "outputId": "38c7d0bf-9911-45c8-82c0-6f00bc7c81bf"
      },
      "outputs": [
        {
          "output_type": "display_data",
          "data": {
            "text/plain": "config.json:   0%|          | 0.00/1.58k [00:00<?, ?B/s]",
            "application/vnd.jupyter.widget-view+json": {
              "version_major": 2,
              "version_minor": 0,
              "model_id": "f2d822f8e4964766a5cacca71b233016"
            }
          },
          "metadata": {}
        },
        {
          "output_type": "display_data",
          "data": {
            "text/plain": "vocab.json:   0%|          | 0.00/899k [00:00<?, ?B/s]",
            "application/vnd.jupyter.widget-view+json": {
              "version_major": 2,
              "version_minor": 0,
              "model_id": "69752df28a3247999eae700772418bca"
            }
          },
          "metadata": {}
        },
        {
          "output_type": "display_data",
          "data": {
            "text/plain": "merges.txt:   0%|          | 0.00/456k [00:00<?, ?B/s]",
            "application/vnd.jupyter.widget-view+json": {
              "version_major": 2,
              "version_minor": 0,
              "model_id": "142f35d1149c484da1cf910dd02a5ac5"
            }
          },
          "metadata": {}
        },
        {
          "output_type": "display_data",
          "data": {
            "text/plain": "tokenizer.json:   0%|          | 0.00/1.36M [00:00<?, ?B/s]",
            "application/vnd.jupyter.widget-view+json": {
              "version_major": 2,
              "version_minor": 0,
              "model_id": "c7039e65a604483fa97033eb79f7bcfb"
            }
          },
          "metadata": {}
        },
        {
          "name": "stderr",
          "text": "/usr/local/lib/python3.10/dist-packages/transformers/tokenization_utils_base.py:1601: FutureWarning: `clean_up_tokenization_spaces` was not set. It will be set to `True` by default. This behavior will be depracted in transformers v4.45, and will be then set to `False` by default. For more details check this issue: https://github.com/huggingface/transformers/issues/31884\n  warnings.warn(\n",
          "output_type": "stream"
        }
      ],
      "execution_count": null
    },
    {
      "cell_type": "code",
      "source": [
        "model = BartForConditionalGeneration.from_pretrained('facebook/bart-large-cnn')"
      ],
      "metadata": {
        "trusted": true,
        "execution": {
          "iopub.status.busy": "2025-01-23T12:41:38.678511Z",
          "iopub.execute_input": "2025-01-23T12:41:38.67903Z",
          "iopub.status.idle": "2025-01-23T12:41:47.376977Z",
          "shell.execute_reply.started": "2025-01-23T12:41:38.678999Z",
          "shell.execute_reply": "2025-01-23T12:41:47.376353Z"
        },
        "colab": {
          "referenced_widgets": [
            "08c2063290a54dcea88f527dcab5a52b",
            "9f577f912eeb4b8f8cc1d8b610ba8338"
          ]
        },
        "id": "XyZxtKOUXnIN",
        "outputId": "a274b01e-ae24-4c77-da02-3e7e0830c50c"
      },
      "outputs": [
        {
          "output_type": "display_data",
          "data": {
            "text/plain": "model.safetensors:   0%|          | 0.00/1.63G [00:00<?, ?B/s]",
            "application/vnd.jupyter.widget-view+json": {
              "version_major": 2,
              "version_minor": 0,
              "model_id": "08c2063290a54dcea88f527dcab5a52b"
            }
          },
          "metadata": {}
        },
        {
          "output_type": "display_data",
          "data": {
            "text/plain": "generation_config.json:   0%|          | 0.00/363 [00:00<?, ?B/s]",
            "application/vnd.jupyter.widget-view+json": {
              "version_major": 2,
              "version_minor": 0,
              "model_id": "9f577f912eeb4b8f8cc1d8b610ba8338"
            }
          },
          "metadata": {}
        }
      ],
      "execution_count": null
    },
    {
      "cell_type": "code",
      "source": [
        "def preprocessing(text):\n",
        "    input_data = tokenizer(text['text'], max_length=1024, truncation=True)\n",
        "    labels = tokenizer(text['summary'], max_length=128, truncation=True)\n",
        "    input_data['labels'] = labels['input_ids']\n",
        "    return input_data\n"
      ],
      "metadata": {
        "trusted": true,
        "execution": {
          "iopub.status.busy": "2025-01-23T12:42:33.517078Z",
          "iopub.execute_input": "2025-01-23T12:42:33.517392Z",
          "iopub.status.idle": "2025-01-23T12:42:33.521722Z",
          "shell.execute_reply.started": "2025-01-23T12:42:33.517372Z",
          "shell.execute_reply": "2025-01-23T12:42:33.520915Z"
        },
        "id": "TkzSjIihXnIN"
      },
      "outputs": [],
      "execution_count": null
    },
    {
      "cell_type": "code",
      "source": [
        "tokenized_data = data.map(preprocessing, batched=True)"
      ],
      "metadata": {
        "trusted": true,
        "execution": {
          "iopub.status.busy": "2025-01-23T12:42:35.181947Z",
          "iopub.execute_input": "2025-01-23T12:42:35.182273Z",
          "iopub.status.idle": "2025-01-23T12:42:39.652326Z",
          "shell.execute_reply.started": "2025-01-23T12:42:35.182247Z",
          "shell.execute_reply": "2025-01-23T12:42:39.651629Z"
        },
        "colab": {
          "referenced_widgets": [
            "54ee5799be9047bfbe0a96f4799127ff",
            "f1e0866e967045c8bcac6a9297c72dbd"
          ]
        },
        "id": "UuRk--6KXnIN",
        "outputId": "0d8dc1f1-335d-42f4-a10a-8a741370cbf8"
      },
      "outputs": [
        {
          "output_type": "display_data",
          "data": {
            "text/plain": "Map:   0%|          | 0/1113 [00:00<?, ? examples/s]",
            "application/vnd.jupyter.widget-view+json": {
              "version_major": 2,
              "version_minor": 0,
              "model_id": "54ee5799be9047bfbe0a96f4799127ff"
            }
          },
          "metadata": {}
        },
        {
          "output_type": "display_data",
          "data": {
            "text/plain": "Map:   0%|          | 0/124 [00:00<?, ? examples/s]",
            "application/vnd.jupyter.widget-view+json": {
              "version_major": 2,
              "version_minor": 0,
              "model_id": "f1e0866e967045c8bcac6a9297c72dbd"
            }
          },
          "metadata": {}
        }
      ],
      "execution_count": null
    },
    {
      "cell_type": "code",
      "source": [
        "tokenized_data = tokenized_data.remove_columns(['text', 'summary', 'title'])"
      ],
      "metadata": {
        "trusted": true,
        "execution": {
          "iopub.status.busy": "2025-01-23T12:43:21.778942Z",
          "iopub.execute_input": "2025-01-23T12:43:21.779263Z",
          "iopub.status.idle": "2025-01-23T12:43:21.787448Z",
          "shell.execute_reply.started": "2025-01-23T12:43:21.779239Z",
          "shell.execute_reply": "2025-01-23T12:43:21.786514Z"
        },
        "id": "DVspQCoOXnIO"
      },
      "outputs": [],
      "execution_count": null
    },
    {
      "cell_type": "code",
      "source": [
        "tokenized_data"
      ],
      "metadata": {
        "trusted": true,
        "execution": {
          "iopub.status.busy": "2025-01-23T12:43:23.895928Z",
          "iopub.execute_input": "2025-01-23T12:43:23.896222Z",
          "iopub.status.idle": "2025-01-23T12:43:23.901514Z",
          "shell.execute_reply.started": "2025-01-23T12:43:23.8962Z",
          "shell.execute_reply": "2025-01-23T12:43:23.900688Z"
        },
        "id": "-ZgkMqHAXnIO",
        "outputId": "4495d1af-fcd2-4c9f-d9a1-04f9e165145f"
      },
      "outputs": [
        {
          "execution_count": 15,
          "output_type": "execute_result",
          "data": {
            "text/plain": "DatasetDict({\n    train: Dataset({\n        features: ['input_ids', 'attention_mask', 'labels'],\n        num_rows: 1113\n    })\n    test: Dataset({\n        features: ['input_ids', 'attention_mask', 'labels'],\n        num_rows: 124\n    })\n})"
          },
          "metadata": {}
        }
      ],
      "execution_count": null
    },
    {
      "cell_type": "code",
      "source": [
        "data_collator = DataCollatorForSeq2Seq(tokenizer=tokenizer, model=model)"
      ],
      "metadata": {
        "trusted": true,
        "execution": {
          "iopub.status.busy": "2025-01-23T12:43:25.660484Z",
          "iopub.execute_input": "2025-01-23T12:43:25.660781Z",
          "iopub.status.idle": "2025-01-23T12:43:25.664559Z",
          "shell.execute_reply.started": "2025-01-23T12:43:25.660761Z",
          "shell.execute_reply": "2025-01-23T12:43:25.663576Z"
        },
        "id": "Cjf4wocjXnIO"
      },
      "outputs": [],
      "execution_count": null
    },
    {
      "cell_type": "code",
      "source": [
        "batch_size = 8\n",
        "\n",
        "train_dataloader = DataLoader(\n",
        "    dataset=tokenized_data['train'],\n",
        "    batch_size=batch_size,\n",
        "    shuffle=True,\n",
        "    drop_last=True,\n",
        "    collate_fn=data_collator\n",
        ")\n",
        "\n",
        "val_dataloader = DataLoader(\n",
        "    dataset=tokenized_data['test'],\n",
        "    batch_size=batch_size,\n",
        "    collate_fn=data_collator\n",
        ")"
      ],
      "metadata": {
        "trusted": true,
        "execution": {
          "iopub.status.busy": "2025-01-23T12:43:27.586935Z",
          "iopub.execute_input": "2025-01-23T12:43:27.587248Z",
          "iopub.status.idle": "2025-01-23T12:43:27.591766Z",
          "shell.execute_reply.started": "2025-01-23T12:43:27.587224Z",
          "shell.execute_reply": "2025-01-23T12:43:27.591039Z"
        },
        "id": "tuW_24WAXnIO"
      },
      "outputs": [],
      "execution_count": null
    },
    {
      "cell_type": "code",
      "source": [
        "next(iter(train_dataloader)).keys()"
      ],
      "metadata": {
        "trusted": true,
        "execution": {
          "iopub.status.busy": "2025-01-23T12:43:27.753123Z",
          "iopub.execute_input": "2025-01-23T12:43:27.753429Z",
          "iopub.status.idle": "2025-01-23T12:43:27.787429Z",
          "shell.execute_reply.started": "2025-01-23T12:43:27.753404Z",
          "shell.execute_reply": "2025-01-23T12:43:27.786757Z"
        },
        "id": "fjFvgqgSXnIP",
        "outputId": "db19ca73-9c08-43eb-ec15-849066528b2a"
      },
      "outputs": [
        {
          "execution_count": 18,
          "output_type": "execute_result",
          "data": {
            "text/plain": "dict_keys(['input_ids', 'attention_mask', 'labels', 'decoder_input_ids'])"
          },
          "metadata": {}
        }
      ],
      "execution_count": null
    },
    {
      "cell_type": "markdown",
      "source": [
        "# Train Loop"
      ],
      "metadata": {
        "id": "ERjzvTMVXnIP"
      }
    },
    {
      "cell_type": "code",
      "source": [
        "num_epochs = 2\n",
        "\n",
        "optimizer = torch.optim.AdamW(model.parameters(),\n",
        "                              lr = 3e-5)\n",
        "\n",
        "total_step = len(data['train']) * num_epochs\n",
        "\n",
        "scheduler = get_linear_schedule_with_warmup(\n",
        "    optimizer,\n",
        "    num_warmup_steps=500,\n",
        "    num_training_steps=total_step\n",
        ")"
      ],
      "metadata": {
        "trusted": true,
        "execution": {
          "iopub.status.busy": "2025-01-23T12:43:32.189473Z",
          "iopub.execute_input": "2025-01-23T12:43:32.189807Z",
          "iopub.status.idle": "2025-01-23T12:43:32.196035Z",
          "shell.execute_reply.started": "2025-01-23T12:43:32.189781Z",
          "shell.execute_reply": "2025-01-23T12:43:32.195168Z"
        },
        "id": "xXRNY8rdXnIP"
      },
      "outputs": [],
      "execution_count": null
    },
    {
      "cell_type": "code",
      "source": [
        "model, optimizer, train_dataloader, scheduler = accelerator.prepare(\n",
        "    model, optimizer, train_dataloader, scheduler\n",
        ")"
      ],
      "metadata": {
        "trusted": true,
        "execution": {
          "iopub.status.busy": "2025-01-23T12:43:32.515071Z",
          "iopub.execute_input": "2025-01-23T12:43:32.515329Z",
          "iopub.status.idle": "2025-01-23T12:43:33.112724Z",
          "shell.execute_reply.started": "2025-01-23T12:43:32.515311Z",
          "shell.execute_reply": "2025-01-23T12:43:33.11205Z"
        },
        "id": "cDna1oG6XnIP"
      },
      "outputs": [],
      "execution_count": null
    },
    {
      "cell_type": "code",
      "source": [
        "for epoch in range(num_epochs):\n",
        "    epoch_loss = 0\n",
        "    val_epoch_loss = 0\n",
        "    model.train()\n",
        "\n",
        "    for batch in tqdm(train_dataloader):\n",
        "        optimizer.zero_grad()\n",
        "\n",
        "        input_ids, attention_mask, labels = batch['input_ids'], batch['attention_mask'], batch['labels']\n",
        "\n",
        "        output = model(input_ids=input_ids,\n",
        "                       attention_mask=attention_mask,\n",
        "                       labels=labels)\n",
        "        loss = output.loss\n",
        "\n",
        "        accelerator.backward(loss)\n",
        "        optimizer.step()\n",
        "        scheduler.step()\n",
        "\n",
        "        gathered_loss = accelerator.gather(loss).mean().item()\n",
        "        epoch_loss += gathered_loss\n",
        "\n",
        "    mean_epoch_loss = epoch_loss / len(train_dataloader)\n",
        "    print(f'{epoch} epoch: mean_loss {mean_epoch_loss}')\n",
        "\n",
        "    model.eval()\n",
        "    total_val_loss = 0.0\n",
        "    total_val_samples = 0\n",
        "\n",
        "    for batch in tqdm(val_dataloader, desc=f\"Validation Epoch {epoch}\"):\n",
        "        batch = {k: v.to(accelerator.device) for k, v in batch.items()}\n",
        "        input_ids = batch['input_ids']\n",
        "        attention_mask = batch['attention_mask']\n",
        "        labels = batch['labels']\n",
        "\n",
        "        with torch.no_grad():\n",
        "            outputs = model(\n",
        "                input_ids=input_ids,\n",
        "                attention_mask=attention_mask,\n",
        "                labels=labels\n",
        "            )\n",
        "\n",
        "        batch_size = input_ids.size(0)\n",
        "        gathered_loss = accelerator.gather(outputs.loss.detach() * batch_size)\n",
        "        total_val_loss += gathered_loss.sum().item()\n",
        "        total_val_samples += accelerator.gather(torch.tensor(batch_size, device=accelerator.device)).sum().item()\n",
        "\n",
        "    mean_val_loss = total_val_loss / total_val_samples\n",
        "    print(f\"Epoch {epoch} | Val Loss: {mean_val_loss:.4f}\")\n",
        "    print(\"-\" * 50)\n",
        "\n",
        "\n",
        ""
      ],
      "metadata": {
        "trusted": true,
        "execution": {
          "iopub.status.busy": "2025-01-23T13:02:34.539118Z",
          "iopub.execute_input": "2025-01-23T13:02:34.539453Z",
          "iopub.status.idle": "2025-01-23T13:21:08.069153Z",
          "shell.execute_reply.started": "2025-01-23T13:02:34.539425Z",
          "shell.execute_reply": "2025-01-23T13:21:08.068207Z"
        },
        "colab": {
          "referenced_widgets": [
            "4e803d4f93e6444ba33f3136c73e6681",
            "8fdb5542be3049d398b5ee96912387bf",
            "e444225fdd184f008c91a4791a187047",
            "97b9b46e025244e98ef7859a4e6aabae"
          ]
        },
        "id": "GTabPzeFXnIP",
        "outputId": "eb79e26b-7e1e-42d5-bc19-e758b144eb9d"
      },
      "outputs": [
        {
          "output_type": "display_data",
          "data": {
            "text/plain": "  0%|          | 0/139 [00:00<?, ?it/s]",
            "application/vnd.jupyter.widget-view+json": {
              "version_major": 2,
              "version_minor": 0,
              "model_id": "4e803d4f93e6444ba33f3136c73e6681"
            }
          },
          "metadata": {}
        },
        {
          "name": "stdout",
          "text": "0 epoch: mean_loss 1.4557626616182944\n",
          "output_type": "stream"
        },
        {
          "output_type": "display_data",
          "data": {
            "text/plain": "Validation Epoch 0:   0%|          | 0/16 [00:00<?, ?it/s]",
            "application/vnd.jupyter.widget-view+json": {
              "version_major": 2,
              "version_minor": 0,
              "model_id": "8fdb5542be3049d398b5ee96912387bf"
            }
          },
          "metadata": {}
        },
        {
          "name": "stdout",
          "text": "Epoch 0 | Val Loss: 1.4879\n--------------------------------------------------\n",
          "output_type": "stream"
        },
        {
          "output_type": "display_data",
          "data": {
            "text/plain": "  0%|          | 0/139 [00:00<?, ?it/s]",
            "application/vnd.jupyter.widget-view+json": {
              "version_major": 2,
              "version_minor": 0,
              "model_id": "e444225fdd184f008c91a4791a187047"
            }
          },
          "metadata": {}
        },
        {
          "name": "stdout",
          "text": "1 epoch: mean_loss 1.2151446698380888\n",
          "output_type": "stream"
        },
        {
          "output_type": "display_data",
          "data": {
            "text/plain": "Validation Epoch 1:   0%|          | 0/16 [00:00<?, ?it/s]",
            "application/vnd.jupyter.widget-view+json": {
              "version_major": 2,
              "version_minor": 0,
              "model_id": "97b9b46e025244e98ef7859a4e6aabae"
            }
          },
          "metadata": {}
        },
        {
          "name": "stdout",
          "text": "Epoch 1 | Val Loss: 1.4518\n--------------------------------------------------\n",
          "output_type": "stream"
        }
      ],
      "execution_count": null
    },
    {
      "cell_type": "markdown",
      "source": [
        "# Count ROUGE"
      ],
      "metadata": {
        "id": "JY5wNTGcXnIQ"
      }
    },
    {
      "cell_type": "code",
      "source": [
        "summaries = []\n",
        "\n",
        "for text in tqdm(data[\"test\"]['text']):\n",
        "    input_ids = tokenizer.encode(\n",
        "        text,\n",
        "        return_tensors=\"pt\",\n",
        "        max_length=1024,\n",
        "        truncation=True,\n",
        "        ).to(device)\n",
        "\n",
        "    summary_text_ids = model.generate(\n",
        "        input_ids=input_ids,\n",
        "        bos_token_id=model.config.bos_token_id,\n",
        "        eos_token_id=model.config.eos_token_id,\n",
        "        max_length=142,\n",
        "        min_length=56,\n",
        "        num_beams=4,\n",
        "    )\n",
        "\n",
        "    decoded_text = tokenizer.decode(summary_text_ids[0], skip_special_tokens=True)\n",
        "    summaries.append(decoded_text)"
      ],
      "metadata": {
        "trusted": true,
        "execution": {
          "iopub.status.busy": "2025-01-23T13:24:53.072179Z",
          "iopub.execute_input": "2025-01-23T13:24:53.072493Z",
          "iopub.status.idle": "2025-01-23T13:28:51.43943Z",
          "shell.execute_reply.started": "2025-01-23T13:24:53.072473Z",
          "shell.execute_reply": "2025-01-23T13:28:51.438316Z"
        },
        "colab": {
          "referenced_widgets": [
            "a4a0c863e50b4e31a4733693b3040d6c"
          ]
        },
        "id": "-UKbdbQ8XnIQ",
        "outputId": "658b7662-b450-4e20-f472-a575202c1768"
      },
      "outputs": [
        {
          "output_type": "display_data",
          "data": {
            "text/plain": "  0%|          | 0/124 [00:00<?, ?it/s]",
            "application/vnd.jupyter.widget-view+json": {
              "version_major": 2,
              "version_minor": 0,
              "model_id": "a4a0c863e50b4e31a4733693b3040d6c"
            }
          },
          "metadata": {}
        }
      ],
      "execution_count": null
    },
    {
      "cell_type": "code",
      "source": [
        "rouge = evaluate.load('rouge')"
      ],
      "metadata": {
        "trusted": true,
        "execution": {
          "iopub.status.busy": "2025-01-23T13:23:29.625877Z",
          "iopub.execute_input": "2025-01-23T13:23:29.626226Z",
          "iopub.status.idle": "2025-01-23T13:23:30.87101Z",
          "shell.execute_reply.started": "2025-01-23T13:23:29.626195Z",
          "shell.execute_reply": "2025-01-23T13:23:30.870135Z"
        },
        "colab": {
          "referenced_widgets": [
            "6b863efa25bc4d7cb3f5eff8de6a51d5"
          ]
        },
        "id": "9cIeIeFIXnIQ",
        "outputId": "ec7f8120-c912-4d12-8a5c-1904308be74c"
      },
      "outputs": [
        {
          "output_type": "display_data",
          "data": {
            "text/plain": "Downloading builder script:   0%|          | 0.00/6.27k [00:00<?, ?B/s]",
            "application/vnd.jupyter.widget-view+json": {
              "version_major": 2,
              "version_minor": 0,
              "model_id": "6b863efa25bc4d7cb3f5eff8de6a51d5"
            }
          },
          "metadata": {}
        }
      ],
      "execution_count": null
    },
    {
      "cell_type": "code",
      "source": [
        "results = rouge.compute(\n",
        "        predictions=summaries,\n",
        "        references=data[\"test\"]['summary']\n",
        "    )"
      ],
      "metadata": {
        "trusted": true,
        "execution": {
          "iopub.status.busy": "2025-01-23T13:29:19.1721Z",
          "iopub.execute_input": "2025-01-23T13:29:19.172423Z",
          "iopub.status.idle": "2025-01-23T13:29:22.436408Z",
          "shell.execute_reply.started": "2025-01-23T13:29:19.172398Z",
          "shell.execute_reply": "2025-01-23T13:29:22.435713Z"
        },
        "id": "hbTaoq0SXnIQ"
      },
      "outputs": [],
      "execution_count": null
    },
    {
      "cell_type": "code",
      "source": [
        "results"
      ],
      "metadata": {
        "trusted": true,
        "execution": {
          "iopub.status.busy": "2025-01-23T13:29:27.375171Z",
          "iopub.execute_input": "2025-01-23T13:29:27.375462Z",
          "iopub.status.idle": "2025-01-23T13:29:27.380347Z",
          "shell.execute_reply.started": "2025-01-23T13:29:27.375442Z",
          "shell.execute_reply": "2025-01-23T13:29:27.37954Z"
        },
        "id": "k_-qj4SOXnIR",
        "outputId": "a7cb25ba-80d9-4802-e9f0-638425b01d4e"
      },
      "outputs": [
        {
          "execution_count": 28,
          "output_type": "execute_result",
          "data": {
            "text/plain": "{'rouge1': 0.3746832315584462,\n 'rouge2': 0.2243917714704478,\n 'rougeL': 0.2596515446083695,\n 'rougeLsum': 0.32759249645737015}"
          },
          "metadata": {}
        }
      ],
      "execution_count": null
    },
    {
      "cell_type": "code",
      "source": [
        "#Model trained for total 4 epochs (2 consecutive training sessions)"
      ],
      "metadata": {
        "trusted": true,
        "id": "3bH19-_UXnIR"
      },
      "outputs": [],
      "execution_count": 1
    },
    {
      "cell_type": "code",
      "source": [],
      "metadata": {
        "id": "mo0TYa6tX9cj"
      },
      "execution_count": null,
      "outputs": []
    }
  ]
}