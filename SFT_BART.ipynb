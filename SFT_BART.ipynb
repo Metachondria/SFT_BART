{
  "metadata": {
    "kernelspec": {
      "language": "python",
      "display_name": "Python 3",
      "name": "python3"
    },
    "language_info": {
      "name": "python",
      "version": "3.10.12",
      "mimetype": "text/x-python",
      "codemirror_mode": {
        "name": "ipython",
        "version": 3
      },
      "pygments_lexer": "ipython3",
      "nbconvert_exporter": "python",
      "file_extension": ".py"
    },
    "kaggle": {
      "accelerator": "nvidiaTeslaT4",
      "dataSources": [],
      "dockerImageVersionId": 30823,
      "isInternetEnabled": true,
      "language": "python",
      "sourceType": "notebook",
      "isGpuEnabled": true
    },
    "colab": {
      "name": "SFT_BART",
      "provenance": [],
      "include_colab_link": true
    }
  },
  "nbformat_minor": 0,
  "nbformat": 4,
  "cells": [
    {
      "cell_type": "markdown",
      "metadata": {
        "id": "view-in-github",
        "colab_type": "text"
      },
      "source": [
        "<a href=\"https://colab.research.google.com/github/Metachondria/SFT_BART/blob/main/SFT_BART.ipynb\" target=\"_parent\"><img src=\"https://colab.research.google.com/assets/colab-badge.svg\" alt=\"Open In Colab\"/></a>"
      ]
    },
    {
      "cell_type": "code",
      "source": [
        "from transformers import  AutoTokenizer, BartForConditionalGeneration,DataCollatorForSeq2Seq, get_linear_schedule_with_warmup\n",
        "import torch\n",
        "from torch.utils.data import DataLoader\n",
        "import torch.nn as nn\n",
        "from accelerate import Accelerator\n",
        "\n",
        "from tqdm.auto import tqdm\n",
        "from datasets import load_dataset\n",
        "\n",
        "accelerator = Accelerator()\n",
        "device = accelerator.device"
      ],
      "metadata": {
        "_uuid": "8f2839f25d086af736a60e9eeb907d3b93b6e0e5",
        "_cell_guid": "b1076dfc-b9ad-4769-8c92-a6c4dae69d19",
        "trusted": true,
        "execution": {
          "iopub.status.busy": "2025-01-04T12:50:28.111052Z",
          "iopub.execute_input": "2025-01-04T12:50:28.111323Z",
          "iopub.status.idle": "2025-01-04T12:50:43.475316Z",
          "shell.execute_reply.started": "2025-01-04T12:50:28.111302Z",
          "shell.execute_reply": "2025-01-04T12:50:43.474685Z"
        },
        "id": "sc1wrPdhipuP"
      },
      "outputs": [],
      "execution_count": null
    },
    {
      "cell_type": "code",
      "source": [
        "torch.cuda.device_count()"
      ],
      "metadata": {
        "trusted": true,
        "execution": {
          "iopub.status.busy": "2025-01-04T12:50:43.476383Z",
          "iopub.execute_input": "2025-01-04T12:50:43.476977Z",
          "iopub.status.idle": "2025-01-04T12:50:43.526775Z",
          "shell.execute_reply.started": "2025-01-04T12:50:43.476952Z",
          "shell.execute_reply": "2025-01-04T12:50:43.526124Z"
        },
        "id": "WhiukXa0ipuS",
        "outputId": "74b28040-2231-4deb-f6a8-e97ab5dc64ec"
      },
      "outputs": [
        {
          "execution_count": 2,
          "output_type": "execute_result",
          "data": {
            "text/plain": "2"
          },
          "metadata": {}
        }
      ],
      "execution_count": null
    },
    {
      "cell_type": "code",
      "source": [
        "data = load_dataset(\"billsum\", split=\"ca_test\")"
      ],
      "metadata": {
        "trusted": true,
        "execution": {
          "iopub.status.busy": "2025-01-04T12:50:43.527992Z",
          "iopub.execute_input": "2025-01-04T12:50:43.528201Z",
          "iopub.status.idle": "2025-01-04T12:50:47.736166Z",
          "shell.execute_reply.started": "2025-01-04T12:50:43.528182Z",
          "shell.execute_reply": "2025-01-04T12:50:47.735182Z"
        },
        "id": "KlvVTglHipuT",
        "outputId": "45874450-be28-4fc8-83a5-1d9aaef6edaf",
        "colab": {
          "referenced_widgets": [
            "3d9fa3664c604395ae45a253137aeec9",
            "b011edbf273a4048a4ec0d4285f5407a",
            "b7be1f8af457477cb420f5496357373c",
            "35708f587f4e46dfb8029da876f76eaa",
            "10eeb76fcdc348aca13f9b5f330672d2",
            "fe68923acce64f959b6e0ad7e58e63c1",
            "67c1de921db54cf29b6d7d3a610c8da4"
          ]
        }
      },
      "outputs": [
        {
          "output_type": "display_data",
          "data": {
            "text/plain": "README.md:   0%|          | 0.00/7.27k [00:00<?, ?B/s]",
            "application/vnd.jupyter.widget-view+json": {
              "version_major": 2,
              "version_minor": 0,
              "model_id": "3d9fa3664c604395ae45a253137aeec9"
            }
          },
          "metadata": {}
        },
        {
          "output_type": "display_data",
          "data": {
            "text/plain": "train-00000-of-00001.parquet:   0%|          | 0.00/91.8M [00:00<?, ?B/s]",
            "application/vnd.jupyter.widget-view+json": {
              "version_major": 2,
              "version_minor": 0,
              "model_id": "b011edbf273a4048a4ec0d4285f5407a"
            }
          },
          "metadata": {}
        },
        {
          "output_type": "display_data",
          "data": {
            "text/plain": "test-00000-of-00001.parquet:   0%|          | 0.00/15.8M [00:00<?, ?B/s]",
            "application/vnd.jupyter.widget-view+json": {
              "version_major": 2,
              "version_minor": 0,
              "model_id": "b7be1f8af457477cb420f5496357373c"
            }
          },
          "metadata": {}
        },
        {
          "output_type": "display_data",
          "data": {
            "text/plain": "ca_test-00000-of-00001.parquet:   0%|          | 0.00/6.12M [00:00<?, ?B/s]",
            "application/vnd.jupyter.widget-view+json": {
              "version_major": 2,
              "version_minor": 0,
              "model_id": "35708f587f4e46dfb8029da876f76eaa"
            }
          },
          "metadata": {}
        },
        {
          "output_type": "display_data",
          "data": {
            "text/plain": "Generating train split:   0%|          | 0/18949 [00:00<?, ? examples/s]",
            "application/vnd.jupyter.widget-view+json": {
              "version_major": 2,
              "version_minor": 0,
              "model_id": "10eeb76fcdc348aca13f9b5f330672d2"
            }
          },
          "metadata": {}
        },
        {
          "output_type": "display_data",
          "data": {
            "text/plain": "Generating test split:   0%|          | 0/3269 [00:00<?, ? examples/s]",
            "application/vnd.jupyter.widget-view+json": {
              "version_major": 2,
              "version_minor": 0,
              "model_id": "fe68923acce64f959b6e0ad7e58e63c1"
            }
          },
          "metadata": {}
        },
        {
          "output_type": "display_data",
          "data": {
            "text/plain": "Generating ca_test split:   0%|          | 0/1237 [00:00<?, ? examples/s]",
            "application/vnd.jupyter.widget-view+json": {
              "version_major": 2,
              "version_minor": 0,
              "model_id": "67c1de921db54cf29b6d7d3a610c8da4"
            }
          },
          "metadata": {}
        }
      ],
      "execution_count": null
    },
    {
      "cell_type": "code",
      "source": [
        "tokenizer = AutoTokenizer.from_pretrained('facebook/bart-large-cnn')"
      ],
      "metadata": {
        "trusted": true,
        "execution": {
          "iopub.status.busy": "2025-01-04T12:50:47.737626Z",
          "iopub.execute_input": "2025-01-04T12:50:47.737925Z",
          "iopub.status.idle": "2025-01-04T12:50:48.518093Z",
          "shell.execute_reply.started": "2025-01-04T12:50:47.737901Z",
          "shell.execute_reply": "2025-01-04T12:50:48.517199Z"
        },
        "id": "Zwqj7NXNipuU",
        "outputId": "1dff6602-4ed2-49fc-85e1-fab310d83e03",
        "colab": {
          "referenced_widgets": [
            "def204adc2a94a2696e10e9e5f44c59a",
            "ca7dd343fcd74b8c8c8808c24e02dcf1",
            "129f260048e14383a8ac095dea80a907",
            "a26791bb2a8f4e19acf3f716f613c037"
          ]
        }
      },
      "outputs": [
        {
          "output_type": "display_data",
          "data": {
            "text/plain": "config.json:   0%|          | 0.00/1.58k [00:00<?, ?B/s]",
            "application/vnd.jupyter.widget-view+json": {
              "version_major": 2,
              "version_minor": 0,
              "model_id": "def204adc2a94a2696e10e9e5f44c59a"
            }
          },
          "metadata": {}
        },
        {
          "output_type": "display_data",
          "data": {
            "text/plain": "vocab.json:   0%|          | 0.00/899k [00:00<?, ?B/s]",
            "application/vnd.jupyter.widget-view+json": {
              "version_major": 2,
              "version_minor": 0,
              "model_id": "ca7dd343fcd74b8c8c8808c24e02dcf1"
            }
          },
          "metadata": {}
        },
        {
          "output_type": "display_data",
          "data": {
            "text/plain": "merges.txt:   0%|          | 0.00/456k [00:00<?, ?B/s]",
            "application/vnd.jupyter.widget-view+json": {
              "version_major": 2,
              "version_minor": 0,
              "model_id": "129f260048e14383a8ac095dea80a907"
            }
          },
          "metadata": {}
        },
        {
          "output_type": "display_data",
          "data": {
            "text/plain": "tokenizer.json:   0%|          | 0.00/1.36M [00:00<?, ?B/s]",
            "application/vnd.jupyter.widget-view+json": {
              "version_major": 2,
              "version_minor": 0,
              "model_id": "a26791bb2a8f4e19acf3f716f613c037"
            }
          },
          "metadata": {}
        },
        {
          "name": "stderr",
          "text": "/usr/local/lib/python3.10/dist-packages/transformers/tokenization_utils_base.py:1601: FutureWarning: `clean_up_tokenization_spaces` was not set. It will be set to `True` by default. This behavior will be depracted in transformers v4.45, and will be then set to `False` by default. For more details check this issue: https://github.com/huggingface/transformers/issues/31884\n  warnings.warn(\n",
          "output_type": "stream"
        }
      ],
      "execution_count": null
    },
    {
      "cell_type": "code",
      "source": [
        "data = data.train_test_split(test_size=0.1)"
      ],
      "metadata": {
        "trusted": true,
        "execution": {
          "iopub.status.busy": "2025-01-04T12:50:48.518948Z",
          "iopub.execute_input": "2025-01-04T12:50:48.519263Z",
          "iopub.status.idle": "2025-01-04T12:50:48.533163Z",
          "shell.execute_reply.started": "2025-01-04T12:50:48.51923Z",
          "shell.execute_reply": "2025-01-04T12:50:48.532243Z"
        },
        "id": "aaMso3moipuV"
      },
      "outputs": [],
      "execution_count": null
    },
    {
      "cell_type": "code",
      "source": [
        "data"
      ],
      "metadata": {
        "trusted": true,
        "execution": {
          "iopub.status.busy": "2025-01-04T12:50:48.534059Z",
          "iopub.execute_input": "2025-01-04T12:50:48.534322Z",
          "iopub.status.idle": "2025-01-04T12:50:48.546299Z",
          "shell.execute_reply.started": "2025-01-04T12:50:48.534301Z",
          "shell.execute_reply": "2025-01-04T12:50:48.545687Z"
        },
        "id": "Dvug84_ripuV",
        "outputId": "a5e02ca1-01c5-4492-f9a1-0441be5fc905"
      },
      "outputs": [
        {
          "execution_count": 6,
          "output_type": "execute_result",
          "data": {
            "text/plain": "DatasetDict({\n    train: Dataset({\n        features: ['text', 'summary', 'title'],\n        num_rows: 1113\n    })\n    test: Dataset({\n        features: ['text', 'summary', 'title'],\n        num_rows: 124\n    })\n})"
          },
          "metadata": {}
        }
      ],
      "execution_count": null
    },
    {
      "cell_type": "code",
      "source": [
        "def preprocessing(text):\n",
        "    input_data = tokenizer(text['text'], max_length=1024, truncation=True)\n",
        "    labels = tokenizer(text['summary'], max_length=128, truncation=True)\n",
        "    input_data['labels'] = labels['input_ids']\n",
        "    return input_data\n"
      ],
      "metadata": {
        "trusted": true,
        "execution": {
          "iopub.status.busy": "2025-01-04T12:50:48.54708Z",
          "iopub.execute_input": "2025-01-04T12:50:48.547337Z",
          "iopub.status.idle": "2025-01-04T12:50:48.560203Z",
          "shell.execute_reply.started": "2025-01-04T12:50:48.547318Z",
          "shell.execute_reply": "2025-01-04T12:50:48.559474Z"
        },
        "id": "PKlGMDKYipuV"
      },
      "outputs": [],
      "execution_count": null
    },
    {
      "cell_type": "code",
      "source": [
        "tokenized_data = data.map(preprocessing, batched=True)"
      ],
      "metadata": {
        "trusted": true,
        "execution": {
          "iopub.status.busy": "2025-01-04T12:50:48.562271Z",
          "iopub.execute_input": "2025-01-04T12:50:48.562463Z",
          "iopub.status.idle": "2025-01-04T12:50:52.561768Z",
          "shell.execute_reply.started": "2025-01-04T12:50:48.562446Z",
          "shell.execute_reply": "2025-01-04T12:50:52.560934Z"
        },
        "id": "f6KOHA-KipuW",
        "outputId": "e4763685-fa25-40b5-c46d-cd3951569cdf",
        "colab": {
          "referenced_widgets": [
            "6f5ba89e6ac14f0aa9c700efee9de88c",
            "77545e6ddfe648b497b98f8806eaf96f"
          ]
        }
      },
      "outputs": [
        {
          "output_type": "display_data",
          "data": {
            "text/plain": "Map:   0%|          | 0/1113 [00:00<?, ? examples/s]",
            "application/vnd.jupyter.widget-view+json": {
              "version_major": 2,
              "version_minor": 0,
              "model_id": "6f5ba89e6ac14f0aa9c700efee9de88c"
            }
          },
          "metadata": {}
        },
        {
          "output_type": "display_data",
          "data": {
            "text/plain": "Map:   0%|          | 0/124 [00:00<?, ? examples/s]",
            "application/vnd.jupyter.widget-view+json": {
              "version_major": 2,
              "version_minor": 0,
              "model_id": "77545e6ddfe648b497b98f8806eaf96f"
            }
          },
          "metadata": {}
        }
      ],
      "execution_count": null
    },
    {
      "cell_type": "code",
      "source": [
        "tokenized_data = tokenized_data.remove_columns(['text', 'summary', 'title'])"
      ],
      "metadata": {
        "trusted": true,
        "execution": {
          "iopub.status.busy": "2025-01-04T12:50:52.562972Z",
          "iopub.execute_input": "2025-01-04T12:50:52.56321Z",
          "iopub.status.idle": "2025-01-04T12:50:52.570146Z",
          "shell.execute_reply.started": "2025-01-04T12:50:52.563188Z",
          "shell.execute_reply": "2025-01-04T12:50:52.569296Z"
        },
        "id": "n9gzwRpKipuX"
      },
      "outputs": [],
      "execution_count": null
    },
    {
      "cell_type": "code",
      "source": [
        "tokenized_data"
      ],
      "metadata": {
        "trusted": true,
        "execution": {
          "iopub.status.busy": "2025-01-04T12:50:52.570962Z",
          "iopub.execute_input": "2025-01-04T12:50:52.571212Z",
          "iopub.status.idle": "2025-01-04T12:50:53.025287Z",
          "shell.execute_reply.started": "2025-01-04T12:50:52.571193Z",
          "shell.execute_reply": "2025-01-04T12:50:53.024415Z"
        },
        "id": "dMPLSEP8ipuX",
        "outputId": "798fff83-54dd-4010-a314-a302ed16db36"
      },
      "outputs": [
        {
          "execution_count": 10,
          "output_type": "execute_result",
          "data": {
            "text/plain": "DatasetDict({\n    train: Dataset({\n        features: ['input_ids', 'attention_mask', 'labels'],\n        num_rows: 1113\n    })\n    test: Dataset({\n        features: ['input_ids', 'attention_mask', 'labels'],\n        num_rows: 124\n    })\n})"
          },
          "metadata": {}
        }
      ],
      "execution_count": null
    },
    {
      "cell_type": "code",
      "source": [
        "data_collator = DataCollatorForSeq2Seq(tokenizer=tokenizer, model=model)"
      ],
      "metadata": {
        "trusted": true,
        "execution": {
          "iopub.status.busy": "2025-01-04T12:54:55.769072Z",
          "iopub.execute_input": "2025-01-04T12:54:55.769326Z",
          "iopub.status.idle": "2025-01-04T12:54:55.772818Z",
          "shell.execute_reply.started": "2025-01-04T12:54:55.769304Z",
          "shell.execute_reply": "2025-01-04T12:54:55.771929Z"
        },
        "id": "ZiIZVj1PipuX"
      },
      "outputs": [],
      "execution_count": null
    },
    {
      "cell_type": "code",
      "source": [
        "batch_size = 4\n",
        "\n",
        "train_dataloader = DataLoader(\n",
        "    dataset=tokenized_data['train'],\n",
        "    batch_size=batch_size,\n",
        "    shuffle=True,\n",
        "    drop_last=True,\n",
        "    collate_fn=data_collator\n",
        ")\n",
        "\n",
        "val_dataloader = DataLoader(\n",
        "    dataset=tokenized_data['test'],\n",
        "    batch_size=batch_size,\n",
        "    collate_fn=data_collator\n",
        ")"
      ],
      "metadata": {
        "trusted": true,
        "execution": {
          "iopub.status.busy": "2025-01-04T12:54:56.453145Z",
          "iopub.execute_input": "2025-01-04T12:54:56.453416Z",
          "iopub.status.idle": "2025-01-04T12:54:56.457881Z",
          "shell.execute_reply.started": "2025-01-04T12:54:56.453394Z",
          "shell.execute_reply": "2025-01-04T12:54:56.457097Z"
        },
        "id": "-E06Af00ipuY"
      },
      "outputs": [],
      "execution_count": null
    },
    {
      "cell_type": "code",
      "source": [
        "next(iter(train_dataloader)).keys()"
      ],
      "metadata": {
        "trusted": true,
        "execution": {
          "iopub.status.busy": "2025-01-04T12:50:53.352559Z",
          "iopub.status.idle": "2025-01-04T12:50:53.352886Z",
          "shell.execute_reply": "2025-01-04T12:50:53.352772Z"
        },
        "id": "ofsJnzKnipuY"
      },
      "outputs": [],
      "execution_count": null
    },
    {
      "cell_type": "code",
      "source": [
        "model = BartForConditionalGeneration.from_pretrained('facebook/bart-large-cnn')"
      ],
      "metadata": {
        "trusted": true,
        "execution": {
          "iopub.status.busy": "2025-01-04T12:54:46.309463Z",
          "iopub.execute_input": "2025-01-04T12:54:46.309809Z",
          "iopub.status.idle": "2025-01-04T12:54:55.384476Z",
          "shell.execute_reply.started": "2025-01-04T12:54:46.309783Z",
          "shell.execute_reply": "2025-01-04T12:54:55.383881Z"
        },
        "id": "gDiAZIXMipuY",
        "outputId": "5826e375-2089-46f3-faaa-bad9787c2df8",
        "colab": {
          "referenced_widgets": [
            "afd0e4fde00b44649b9163a543499e99",
            "c501deef9d974b7a89b68cf3be58049b"
          ]
        }
      },
      "outputs": [
        {
          "output_type": "display_data",
          "data": {
            "text/plain": "model.safetensors:   0%|          | 0.00/1.63G [00:00<?, ?B/s]",
            "application/vnd.jupyter.widget-view+json": {
              "version_major": 2,
              "version_minor": 0,
              "model_id": "afd0e4fde00b44649b9163a543499e99"
            }
          },
          "metadata": {}
        },
        {
          "output_type": "display_data",
          "data": {
            "text/plain": "generation_config.json:   0%|          | 0.00/363 [00:00<?, ?B/s]",
            "application/vnd.jupyter.widget-view+json": {
              "version_major": 2,
              "version_minor": 0,
              "model_id": "c501deef9d974b7a89b68cf3be58049b"
            }
          },
          "metadata": {}
        }
      ],
      "execution_count": null
    },
    {
      "cell_type": "code",
      "source": [
        "num_epochs = 2\n",
        "\n",
        "optimizer = torch.optim.AdamW(model.parameters(),\n",
        "                              lr = 3e-5)\n",
        "\n",
        "total_step = len(data['train']) * num_epochs\n",
        "\n",
        "scheduler = get_linear_schedule_with_warmup(\n",
        "    optimizer,\n",
        "    num_warmup_steps=500,\n",
        "    num_training_steps=total_step\n",
        ")"
      ],
      "metadata": {
        "trusted": true,
        "execution": {
          "iopub.status.busy": "2025-01-04T12:54:59.63948Z",
          "iopub.execute_input": "2025-01-04T12:54:59.639795Z",
          "iopub.status.idle": "2025-01-04T12:55:00.148876Z",
          "shell.execute_reply.started": "2025-01-04T12:54:59.639771Z",
          "shell.execute_reply": "2025-01-04T12:55:00.147979Z"
        },
        "id": "Kudx4MijipuZ"
      },
      "outputs": [],
      "execution_count": null
    },
    {
      "cell_type": "code",
      "source": [
        "model, optimizer, train_dataloader, scheduler = accelerator.prepare(\n",
        "    model, optimizer, train_dataloader, scheduler\n",
        ")"
      ],
      "metadata": {
        "trusted": true,
        "execution": {
          "iopub.status.busy": "2025-01-04T12:55:02.47929Z",
          "iopub.execute_input": "2025-01-04T12:55:02.479754Z",
          "iopub.status.idle": "2025-01-04T12:55:06.488616Z",
          "shell.execute_reply.started": "2025-01-04T12:55:02.479705Z",
          "shell.execute_reply": "2025-01-04T12:55:06.487904Z"
        },
        "id": "W3skrEEJipuZ"
      },
      "outputs": [],
      "execution_count": null
    },
    {
      "cell_type": "code",
      "source": [
        "for epoch in range(num_epochs):\n",
        "    epoch_loss = 0\n",
        "    model.train()\n",
        "    for batch in tqdm(train_dataloader):\n",
        "        optimizer.zero_grad()\n",
        "        input_ids, attention_mask, labels = batch['input_ids'], batch['attention_mask'], batch['labels']\n",
        "\n",
        "        output = model(input_ids=input_ids,\n",
        "                       attention_mask=attention_mask,\n",
        "                       labels=labels)\n",
        "        loss = output.loss\n",
        "\n",
        "        accelerator.backward(loss)\n",
        "        optimizer.step()\n",
        "        scheduler.step()\n",
        "\n",
        "        epoch_loss += loss\n",
        "\n",
        "    mean_epoch_loss = epoch_loss / len(train_dataloader)\n",
        "    print(f'{epoch} epoch: mean_loss {mean_epoch_loss}')\n",
        ""
      ],
      "metadata": {
        "trusted": true,
        "execution": {
          "iopub.status.busy": "2025-01-04T12:55:16.039886Z",
          "iopub.execute_input": "2025-01-04T12:55:16.040188Z",
          "iopub.status.idle": "2025-01-04T13:15:26.116447Z",
          "shell.execute_reply.started": "2025-01-04T12:55:16.040165Z",
          "shell.execute_reply": "2025-01-04T13:15:26.115686Z"
        },
        "id": "vRO_41bjipuZ",
        "outputId": "66b986d9-6a4c-43de-fd78-d511210af423",
        "colab": {
          "referenced_widgets": [
            "f0bca4a894c54a05a2530ae211bea97e",
            "555b7b5401c24207bb52f9fde0a0efda"
          ]
        }
      },
      "outputs": [
        {
          "output_type": "display_data",
          "data": {
            "text/plain": "  0%|          | 0/278 [00:00<?, ?it/s]",
            "application/vnd.jupyter.widget-view+json": {
              "version_major": 2,
              "version_minor": 0,
              "model_id": "f0bca4a894c54a05a2530ae211bea97e"
            }
          },
          "metadata": {}
        },
        {
          "name": "stdout",
          "text": "0 epoch: mean_loss 2.024460792541504\n",
          "output_type": "stream"
        },
        {
          "output_type": "display_data",
          "data": {
            "text/plain": "  0%|          | 0/278 [00:00<?, ?it/s]",
            "application/vnd.jupyter.widget-view+json": {
              "version_major": 2,
              "version_minor": 0,
              "model_id": "555b7b5401c24207bb52f9fde0a0efda"
            }
          },
          "metadata": {}
        },
        {
          "name": "stdout",
          "text": "1 epoch: mean_loss 1.5667716264724731\n",
          "output_type": "stream"
        }
      ],
      "execution_count": null
    },
    {
      "cell_type": "code",
      "source": [
        "!nvidia-smi"
      ],
      "metadata": {
        "trusted": true,
        "execution": {
          "iopub.status.busy": "2025-01-04T12:50:53.357874Z",
          "iopub.status.idle": "2025-01-04T12:50:53.358129Z",
          "shell.execute_reply": "2025-01-04T12:50:53.35801Z"
        },
        "id": "cTy1LmoGipuZ"
      },
      "outputs": [],
      "execution_count": null
    },
    {
      "cell_type": "code",
      "source": [],
      "metadata": {
        "trusted": true,
        "execution": {
          "iopub.status.busy": "2025-01-04T12:50:53.358861Z",
          "iopub.status.idle": "2025-01-04T12:50:53.359193Z",
          "shell.execute_reply": "2025-01-04T12:50:53.359043Z"
        },
        "id": "YwudC8qaipua"
      },
      "outputs": [],
      "execution_count": null
    },
    {
      "cell_type": "code",
      "source": [],
      "metadata": {
        "trusted": true,
        "id": "3WixPbXqipua"
      },
      "outputs": [],
      "execution_count": null
    },
    {
      "cell_type": "code",
      "source": [],
      "metadata": {
        "trusted": true,
        "id": "SPYZ65aUipua"
      },
      "outputs": [],
      "execution_count": null
    }
  ]
}